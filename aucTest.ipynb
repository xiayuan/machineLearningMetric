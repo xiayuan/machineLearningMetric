{
 "cells": [
  {
   "cell_type": "code",
   "execution_count": 1,
   "metadata": {
    "collapsed": false
   },
   "outputs": [
    {
     "name": "stderr",
     "output_type": "stream",
     "text": [
      "/Users/xiayuan/anaconda/lib/python2.7/site-packages/sklearn/cross_validation.py:44: DeprecationWarning: This module was deprecated in version 0.18 in favor of the model_selection module into which all the refactored classes and functions are moved. Also note that the interface of the new CV iterators are different from that of this module. This module will be removed in 0.20.\n",
      "  \"This module will be removed in 0.20.\", DeprecationWarning)\n"
     ]
    }
   ],
   "source": [
    "from sklearn import cross_validation,metrics\n",
    "import numpy as np\n"
   ]
  },
  {
   "cell_type": "code",
   "execution_count": 2,
   "metadata": {
    "collapsed": true
   },
   "outputs": [],
   "source": [
    "def read_file(pred_file, label_file):\n",
    "    pf=open(pred_file, 'r')\n",
    "    lf=open(label_file, 'r')\n",
    "    \n",
    "    pf_list=[]\n",
    "    lf_list=[]\n",
    "    \n",
    "    for pi in pf:\n",
    "        pf_list.append(float(pi.rstrip('\\n')))\n",
    "    \n",
    "    for li in lf:\n",
    "        lf_list.append(int(li.rstrip('\\n')))\n",
    "\n",
    "    pf_np=np.array(pf_list)\n",
    "    lf_np=np.array(lf_list)\n",
    "\n",
    "    return pf_np, lf_np"
   ]
  },
  {
   "cell_type": "code",
   "execution_count": 3,
   "metadata": {
    "collapsed": true
   },
   "outputs": [],
   "source": [
    "def get_auc(y_pred, y_true):\n",
    "    test_auc = metrics.roc_auc_score(y_true, y_pred)\n",
    "    print test_auc \n",
    "\n",
    "\n",
    "def auc2(y_pred, y_true):\n",
    "    a = sorted([(y_pred[i], y_true[i]) for i in range(len(y_pred))], key=lambda x: -x[0])\n",
    "    s = 0.0\n",
    "    true_count = len([1 for i in y_true if i])\n",
    "    false_count = len(y_true) - true_count\n",
    "    total_false = false_count\n",
    "\n",
    "    for i in a:\n",
    "        if i[1]:\n",
    "            s += 1.0 / true_count * false_count / total_false\n",
    "        else:\n",
    "            false_count -= 1\n",
    "\n",
    "    print s\n",
    "    return s"
   ]
  },
  {
   "cell_type": "code",
   "execution_count": 4,
   "metadata": {
    "collapsed": true
   },
   "outputs": [],
   "source": [
    "y_pred, y_true = read_file(\"first_pred.txt\",\"first_gt.txt\")"
   ]
  },
  {
   "cell_type": "code",
   "execution_count": 6,
   "metadata": {
    "collapsed": false
   },
   "outputs": [],
   "source": [
    "a = sorted([(y_pred[i], y_true[i]) for i in range(len(y_pred))], key=lambda x: -x[0])"
   ]
  },
  {
   "cell_type": "code",
   "execution_count": 7,
   "metadata": {
    "collapsed": false
   },
   "outputs": [
    {
     "data": {
      "text/plain": [
       "[(0.99996269999999998, 1),\n",
       " (0.99949359999999998, 1),\n",
       " (0.99947304000000003, 1),\n",
       " (0.99906709999999999, 1),\n",
       " (0.99897515999999997, 1),\n",
       " (0.99893683, 1),\n",
       " (0.99889609999999995, 1),\n",
       " (0.99868520000000005, 1),\n",
       " (0.99804985999999996, 1),\n",
       " (0.99798213999999996, 1),\n",
       " (0.99737050000000005, 1),\n",
       " (0.99726236000000001, 1),\n",
       " (0.99647989999999997, 1),\n",
       " (0.99598039999999999, 1),\n",
       " (0.99577599999999999, 1),\n",
       " (0.99497234999999995, 1),\n",
       " (0.99457499999999999, 1),\n",
       " (0.99329730000000005, 1),\n",
       " (0.99143725999999999, 1),\n",
       " (0.98991720000000005, 1),\n",
       " (0.98884749999999999, 1),\n",
       " (0.98785155999999996, 1),\n",
       " (0.98732240000000004, 1),\n",
       " (0.98592179999999996, 1),\n",
       " (0.98546959999999995, 1),\n",
       " (0.98470530000000001, 1),\n",
       " (0.98335760000000005, 1),\n",
       " (0.98315269999999999, 1),\n",
       " (0.98140380000000005, 1),\n",
       " (0.97949195, 1),\n",
       " (0.97934054999999998, 1),\n",
       " (0.97833199999999998, 1),\n",
       " (0.97068960000000004, 1),\n",
       " (0.96980524000000001, 1),\n",
       " (0.96769863, 1),\n",
       " (0.96746093, 1),\n",
       " (0.96692009999999995, 0),\n",
       " (0.95610225000000004, 1),\n",
       " (0.95592390000000005, 0),\n",
       " (0.95373123999999998, 1),\n",
       " (0.94676035999999997, 1),\n",
       " (0.94484663000000002, 1),\n",
       " (0.94288676999999999, 1),\n",
       " (0.94225309999999995, 1),\n",
       " (0.93354729999999997, 1),\n",
       " (0.92475079999999998, 1),\n",
       " (0.92146589999999995, 0),\n",
       " (0.91406392999999997, 1),\n",
       " (0.91164005000000004, 1),\n",
       " (0.90344009999999997, 1),\n",
       " (0.90024769999999998, 0),\n",
       " (0.89395725999999998, 1),\n",
       " (0.88847240000000005, 1),\n",
       " (0.88669100000000001, 1),\n",
       " (0.86354953000000001, 1),\n",
       " (0.84664196000000003, 1),\n",
       " (0.8327215, 1),\n",
       " (0.83097299999999996, 1),\n",
       " (0.81842360000000003, 1),\n",
       " (0.80822640000000001, 1),\n",
       " (0.80733955000000002, 1),\n",
       " (0.80631554000000005, 1),\n",
       " (0.80335975000000004, 1),\n",
       " (0.80070079999999999, 1),\n",
       " (0.79291540000000005, 1),\n",
       " (0.77301430000000004, 0),\n",
       " (0.76909024000000004, 1),\n",
       " (0.74045519999999998, 1),\n",
       " (0.70455710000000005, 1),\n",
       " (0.67656240000000001, 0),\n",
       " (0.67612289999999997, 1),\n",
       " (0.66190623999999998, 1),\n",
       " (0.65853490000000003, 1),\n",
       " (0.65027670000000004, 1),\n",
       " (0.64206015999999999, 1),\n",
       " (0.64090800000000003, 1),\n",
       " (0.62996405, 1),\n",
       " (0.62837993999999997, 1),\n",
       " (0.62576114999999999, 1),\n",
       " (0.62122370000000005, 1),\n",
       " (0.61773043999999999, 1),\n",
       " (0.57399666000000005, 1),\n",
       " (0.55611949999999999, 1),\n",
       " (0.55164546000000003, 1),\n",
       " (0.53827332999999999, 0),\n",
       " (0.53424709999999997, 1),\n",
       " (0.53237579999999995, 1),\n",
       " (0.52457149999999997, 0),\n",
       " (0.5147351, 1),\n",
       " (0.50622769999999995, 1),\n",
       " (0.49088274999999998, 1),\n",
       " (0.48466684999999998, 0),\n",
       " (0.45183014999999999, 1),\n",
       " (0.27181947000000001, 1)]"
      ]
     },
     "execution_count": 7,
     "metadata": {},
     "output_type": "execute_result"
    }
   ],
   "source": [
    "a"
   ]
  },
  {
   "cell_type": "code",
   "execution_count": 14,
   "metadata": {
    "collapsed": true
   },
   "outputs": [],
   "source": [
    "true_count = sum(y_true)"
   ]
  },
  {
   "cell_type": "code",
   "execution_count": 15,
   "metadata": {
    "collapsed": false
   },
   "outputs": [
    {
     "data": {
      "text/plain": [
       "85"
      ]
     },
     "execution_count": 15,
     "metadata": {},
     "output_type": "execute_result"
    }
   ],
   "source": [
    "true_count"
   ]
  },
  {
   "cell_type": "code",
   "execution_count": null,
   "metadata": {
    "collapsed": true
   },
   "outputs": [],
   "source": []
  }
 ],
 "metadata": {
  "kernelspec": {
   "display_name": "Python 2",
   "language": "python",
   "name": "python2"
  },
  "language_info": {
   "codemirror_mode": {
    "name": "ipython",
    "version": 2
   },
   "file_extension": ".py",
   "mimetype": "text/x-python",
   "name": "python",
   "nbconvert_exporter": "python",
   "pygments_lexer": "ipython2",
   "version": "2.7.11"
  }
 },
 "nbformat": 4,
 "nbformat_minor": 0
}
